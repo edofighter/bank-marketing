{
 "cells": [
  {
   "cell_type": "code",
   "execution_count": 17,
   "id": "100ba1e9",
   "metadata": {},
   "outputs": [],
   "source": [
    "# Librerías e importaciones\n",
    "import pandas as pd\n",
    "import numpy as np\n",
    "import joblib\n",
    "import xgboost as xgb\n",
    "from sklearn.model_selection import train_test_split, GridSearchCV\n",
    "from sklearn.ensemble import RandomForestClassifier\n",
    "from sklearn.metrics import classification_report, roc_auc_score"
   ]
  },
  {
   "cell_type": "code",
   "execution_count": 18,
   "id": "364961c3",
   "metadata": {},
   "outputs": [],
   "source": [
    "# Cargar dataset procesado\n",
    "df = pd.read_csv('../data/raw/bank_marketing.csv')\n",
    "df['Class'] = df['Class'].map({'no': 0, 'yes': 1, 1: 0, 2: 1, 0: 0})\n",
    "df = df.loc[~df['Class'].isnull(), :]\n",
    "y = df['Class']\n",
    "X = df.drop('Class', axis=1)"
   ]
  },
  {
   "cell_type": "code",
   "execution_count": 19,
   "id": "0fa50121",
   "metadata": {},
   "outputs": [],
   "source": [
    "# Split train/test\n",
    "X_train, X_test, y_train, y_test = train_test_split(X, y, test_size=0.2, random_state=42, stratify=y)"
   ]
  },
  {
   "cell_type": "code",
   "execution_count": 20,
   "id": "ba829806",
   "metadata": {},
   "outputs": [],
   "source": [
    "# Codificar variables categóricas\n",
    "X_train_enc = pd.get_dummies(X_train)\n",
    "X_test_enc = pd.get_dummies(X_test)\n",
    "X_test_enc = X_test_enc.reindex(columns=X_train_enc.columns, fill_value=0)"
   ]
  },
  {
   "cell_type": "code",
   "execution_count": 21,
   "id": "594f1904",
   "metadata": {},
   "outputs": [
    {
     "data": {
      "text/plain": [
       "['../models/random_forest.pkl']"
      ]
     },
     "execution_count": 21,
     "metadata": {},
     "output_type": "execute_result"
    }
   ],
   "source": [
    "# Entrenar y guardar Random Forest\n",
    "rf = RandomForestClassifier(random_state=42)\n",
    "rf.fit(X_train_enc, y_train)\n",
    "import os\n",
    "os.makedirs('../models', exist_ok=True)\n",
    "joblib.dump(rf, '../models/random_forest.pkl')"
   ]
  },
  {
   "cell_type": "code",
   "execution_count": 22,
   "id": "e4e0287e",
   "metadata": {},
   "outputs": [
    {
     "name": "stderr",
     "output_type": "stream",
     "text": [
      "c:\\Users\\Eduardo\\AppData\\Local\\Programs\\Python\\Python312\\Lib\\site-packages\\xgboost\\training.py:183: UserWarning: [13:18:25] WARNING: C:\\actions-runner\\_work\\xgboost\\xgboost\\src\\learner.cc:738: \n",
      "Parameters: { \"use_label_encoder\" } are not used.\n",
      "\n",
      "  bst.update(dtrain, iteration=i, fobj=obj)\n"
     ]
    },
    {
     "data": {
      "text/plain": [
       "['../models/xgb_columns.pkl']"
      ]
     },
     "execution_count": 22,
     "metadata": {},
     "output_type": "execute_result"
    }
   ],
   "source": [
    "# Entrenar y guardar XGBoost\n",
    "xgb_model = xgb.XGBClassifier(eval_metric='logloss', use_label_encoder=False, random_state=42)\n",
    "params = {\n",
    "    'max_depth': [3, 5, 7],\n",
    "    'n_estimators': [100, 300],\n",
    "    'learning_rate': [0.01, 0.1]\n",
    "}\n",
    "grid = GridSearchCV(xgb_model, params, cv=3, scoring='roc_auc', n_jobs=-1)\n",
    "grid.fit(X_train_enc, y_train)\n",
    "joblib.dump(grid.best_estimator_, '../models/xgb_best.pkl')\n",
    "joblib.dump(X_train_enc.columns.tolist(), '../models/xgb_columns.pkl')"
   ]
  },
  {
   "cell_type": "code",
   "execution_count": 24,
   "id": "80622fac",
   "metadata": {},
   "outputs": [
    {
     "name": "stdout",
     "output_type": "stream",
     "text": [
      "Predicción: 0\n"
     ]
    }
   ],
   "source": [
    "# Ejemplo de predicción directa con XGBoost\n",
    "model = joblib.load('../models/xgb_best.pkl')\n",
    "columns = joblib.load('../models/xgb_columns.pkl')\n",
    "ejemplo = {\n",
    "    'age': 35,\n",
    "    'job': 'admin.',\n",
    "    'marital': 'married',\n",
    "    'education': 'secondary',\n",
    "    'default': 'no',\n",
    "    'balance': 1000,\n",
    "    'housing': 'yes',\n",
    "    'loan': 'no',\n",
    "    'contact': 'cellular',\n",
    "    'day': 15,\n",
    "    'month': 'may',\n",
    "    'duration': 300,\n",
    "    'campaign': 2,\n",
    "    'pdays': 999,\n",
    "    'previous': 0,\n",
    "    'poutcome': 'unknown'\n",
    "}\n",
    "data = pd.DataFrame([ejemplo])\n",
    "data_enc = pd.get_dummies(data)\n",
    "data_enc = data_enc.reindex(columns=columns, fill_value=0)\n",
    "pred = int(model.predict(data_enc)[0])\n",
    "print('Predicción:', pred)"
   ]
  }
 ],
 "metadata": {
  "language_info": {
   "name": "python"
  }
 },
 "nbformat": 4,
 "nbformat_minor": 5
}
