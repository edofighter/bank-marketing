{
 "cells": [
  {
   "cell_type": "code",
   "execution_count": 1,
   "id": "091734a6",
   "metadata": {},
   "outputs": [],
   "source": [
    "#Exploración inicial de datos (EDA)\n",
    "#librerias e importaciones\n",
    "import pandas as pd \n",
    "import matplotlib.pyplot as plt\n",
    "import seaborn as sns \n",
    "\n",
    "from pathlib import Path\n",
    "from sklearn.model_selection import train_test_split\n",
    "from sklearn.preprocessing import StandardScaler\n",
    "from sklearn.linear_model import LogisticRegression\n",
    "from sklearn.metrics import classification_report, roc_auc_score\n"
   ]
  },
  {
   "cell_type": "code",
   "execution_count": 20,
   "id": "b144ea2e",
   "metadata": {},
   "outputs": [
    {
     "name": "stdout",
     "output_type": "stream",
     "text": [
      "Shape: (45211, 17)\n"
     ]
    },
    {
     "data": {
      "application/vnd.microsoft.datawrangler.viewer.v0+json": {
       "columns": [
        {
         "name": "index",
         "rawType": "int64",
         "type": "integer"
        },
        {
         "name": "V1",
         "rawType": "int64",
         "type": "integer"
        },
        {
         "name": "V2",
         "rawType": "object",
         "type": "string"
        },
        {
         "name": "V3",
         "rawType": "object",
         "type": "string"
        },
        {
         "name": "V4",
         "rawType": "object",
         "type": "string"
        },
        {
         "name": "V5",
         "rawType": "object",
         "type": "string"
        },
        {
         "name": "V6",
         "rawType": "int64",
         "type": "integer"
        },
        {
         "name": "V7",
         "rawType": "object",
         "type": "string"
        },
        {
         "name": "V8",
         "rawType": "object",
         "type": "string"
        },
        {
         "name": "V9",
         "rawType": "object",
         "type": "string"
        },
        {
         "name": "V10",
         "rawType": "int64",
         "type": "integer"
        },
        {
         "name": "V11",
         "rawType": "object",
         "type": "string"
        },
        {
         "name": "V12",
         "rawType": "int64",
         "type": "integer"
        },
        {
         "name": "V13",
         "rawType": "int64",
         "type": "integer"
        },
        {
         "name": "V14",
         "rawType": "int64",
         "type": "integer"
        },
        {
         "name": "V15",
         "rawType": "int64",
         "type": "integer"
        },
        {
         "name": "V16",
         "rawType": "object",
         "type": "string"
        },
        {
         "name": "Class",
         "rawType": "int64",
         "type": "integer"
        }
       ],
       "ref": "0a704093-d558-410d-abe5-c079bd0bb136",
       "rows": [
        [
         "0",
         "58",
         "management",
         "married",
         "tertiary",
         "no",
         "2143",
         "yes",
         "no",
         "unknown",
         "5",
         "may",
         "261",
         "1",
         "-1",
         "0",
         "unknown",
         "1"
        ],
        [
         "1",
         "44",
         "technician",
         "single",
         "secondary",
         "no",
         "29",
         "yes",
         "no",
         "unknown",
         "5",
         "may",
         "151",
         "1",
         "-1",
         "0",
         "unknown",
         "1"
        ],
        [
         "2",
         "33",
         "entrepreneur",
         "married",
         "secondary",
         "no",
         "2",
         "yes",
         "yes",
         "unknown",
         "5",
         "may",
         "76",
         "1",
         "-1",
         "0",
         "unknown",
         "1"
        ],
        [
         "3",
         "47",
         "blue-collar",
         "married",
         "unknown",
         "no",
         "1506",
         "yes",
         "no",
         "unknown",
         "5",
         "may",
         "92",
         "1",
         "-1",
         "0",
         "unknown",
         "1"
        ],
        [
         "4",
         "33",
         "unknown",
         "single",
         "unknown",
         "no",
         "1",
         "no",
         "no",
         "unknown",
         "5",
         "may",
         "198",
         "1",
         "-1",
         "0",
         "unknown",
         "1"
        ]
       ],
       "shape": {
        "columns": 17,
        "rows": 5
       }
      },
      "text/html": [
       "<div>\n",
       "<style scoped>\n",
       "    .dataframe tbody tr th:only-of-type {\n",
       "        vertical-align: middle;\n",
       "    }\n",
       "\n",
       "    .dataframe tbody tr th {\n",
       "        vertical-align: top;\n",
       "    }\n",
       "\n",
       "    .dataframe thead th {\n",
       "        text-align: right;\n",
       "    }\n",
       "</style>\n",
       "<table border=\"1\" class=\"dataframe\">\n",
       "  <thead>\n",
       "    <tr style=\"text-align: right;\">\n",
       "      <th></th>\n",
       "      <th>V1</th>\n",
       "      <th>V2</th>\n",
       "      <th>V3</th>\n",
       "      <th>V4</th>\n",
       "      <th>V5</th>\n",
       "      <th>V6</th>\n",
       "      <th>V7</th>\n",
       "      <th>V8</th>\n",
       "      <th>V9</th>\n",
       "      <th>V10</th>\n",
       "      <th>V11</th>\n",
       "      <th>V12</th>\n",
       "      <th>V13</th>\n",
       "      <th>V14</th>\n",
       "      <th>V15</th>\n",
       "      <th>V16</th>\n",
       "      <th>Class</th>\n",
       "    </tr>\n",
       "  </thead>\n",
       "  <tbody>\n",
       "    <tr>\n",
       "      <th>0</th>\n",
       "      <td>58</td>\n",
       "      <td>management</td>\n",
       "      <td>married</td>\n",
       "      <td>tertiary</td>\n",
       "      <td>no</td>\n",
       "      <td>2143</td>\n",
       "      <td>yes</td>\n",
       "      <td>no</td>\n",
       "      <td>unknown</td>\n",
       "      <td>5</td>\n",
       "      <td>may</td>\n",
       "      <td>261</td>\n",
       "      <td>1</td>\n",
       "      <td>-1</td>\n",
       "      <td>0</td>\n",
       "      <td>unknown</td>\n",
       "      <td>1</td>\n",
       "    </tr>\n",
       "    <tr>\n",
       "      <th>1</th>\n",
       "      <td>44</td>\n",
       "      <td>technician</td>\n",
       "      <td>single</td>\n",
       "      <td>secondary</td>\n",
       "      <td>no</td>\n",
       "      <td>29</td>\n",
       "      <td>yes</td>\n",
       "      <td>no</td>\n",
       "      <td>unknown</td>\n",
       "      <td>5</td>\n",
       "      <td>may</td>\n",
       "      <td>151</td>\n",
       "      <td>1</td>\n",
       "      <td>-1</td>\n",
       "      <td>0</td>\n",
       "      <td>unknown</td>\n",
       "      <td>1</td>\n",
       "    </tr>\n",
       "    <tr>\n",
       "      <th>2</th>\n",
       "      <td>33</td>\n",
       "      <td>entrepreneur</td>\n",
       "      <td>married</td>\n",
       "      <td>secondary</td>\n",
       "      <td>no</td>\n",
       "      <td>2</td>\n",
       "      <td>yes</td>\n",
       "      <td>yes</td>\n",
       "      <td>unknown</td>\n",
       "      <td>5</td>\n",
       "      <td>may</td>\n",
       "      <td>76</td>\n",
       "      <td>1</td>\n",
       "      <td>-1</td>\n",
       "      <td>0</td>\n",
       "      <td>unknown</td>\n",
       "      <td>1</td>\n",
       "    </tr>\n",
       "    <tr>\n",
       "      <th>3</th>\n",
       "      <td>47</td>\n",
       "      <td>blue-collar</td>\n",
       "      <td>married</td>\n",
       "      <td>unknown</td>\n",
       "      <td>no</td>\n",
       "      <td>1506</td>\n",
       "      <td>yes</td>\n",
       "      <td>no</td>\n",
       "      <td>unknown</td>\n",
       "      <td>5</td>\n",
       "      <td>may</td>\n",
       "      <td>92</td>\n",
       "      <td>1</td>\n",
       "      <td>-1</td>\n",
       "      <td>0</td>\n",
       "      <td>unknown</td>\n",
       "      <td>1</td>\n",
       "    </tr>\n",
       "    <tr>\n",
       "      <th>4</th>\n",
       "      <td>33</td>\n",
       "      <td>unknown</td>\n",
       "      <td>single</td>\n",
       "      <td>unknown</td>\n",
       "      <td>no</td>\n",
       "      <td>1</td>\n",
       "      <td>no</td>\n",
       "      <td>no</td>\n",
       "      <td>unknown</td>\n",
       "      <td>5</td>\n",
       "      <td>may</td>\n",
       "      <td>198</td>\n",
       "      <td>1</td>\n",
       "      <td>-1</td>\n",
       "      <td>0</td>\n",
       "      <td>unknown</td>\n",
       "      <td>1</td>\n",
       "    </tr>\n",
       "  </tbody>\n",
       "</table>\n",
       "</div>"
      ],
      "text/plain": [
       "   V1            V2       V3         V4  V5    V6   V7   V8       V9  V10  \\\n",
       "0  58    management  married   tertiary  no  2143  yes   no  unknown    5   \n",
       "1  44    technician   single  secondary  no    29  yes   no  unknown    5   \n",
       "2  33  entrepreneur  married  secondary  no     2  yes  yes  unknown    5   \n",
       "3  47   blue-collar  married    unknown  no  1506  yes   no  unknown    5   \n",
       "4  33       unknown   single    unknown  no     1   no   no  unknown    5   \n",
       "\n",
       "   V11  V12  V13  V14  V15      V16  Class  \n",
       "0  may  261    1   -1    0  unknown      1  \n",
       "1  may  151    1   -1    0  unknown      1  \n",
       "2  may   76    1   -1    0  unknown      1  \n",
       "3  may   92    1   -1    0  unknown      1  \n",
       "4  may  198    1   -1    0  unknown      1  "
      ]
     },
     "execution_count": 20,
     "metadata": {},
     "output_type": "execute_result"
    }
   ],
   "source": [
    "# Cargar datos\n",
    "df = pd.read_csv('../data/raw/bank_marketing.csv')\n",
    "print('Shape:', df.shape)\n",
    "df.head()"
   ]
  },
  {
   "cell_type": "code",
   "execution_count": 21,
   "id": "a7393295",
   "metadata": {},
   "outputs": [
    {
     "name": "stdout",
     "output_type": "stream",
     "text": [
      "<class 'pandas.core.frame.DataFrame'>\n",
      "RangeIndex: 45211 entries, 0 to 45210\n",
      "Data columns (total 17 columns):\n",
      " #   Column  Non-Null Count  Dtype \n",
      "---  ------  --------------  ----- \n",
      " 0   V1      45211 non-null  int64 \n",
      " 1   V2      45211 non-null  object\n",
      " 2   V3      45211 non-null  object\n",
      " 3   V4      45211 non-null  object\n",
      " 4   V5      45211 non-null  object\n",
      " 5   V6      45211 non-null  int64 \n",
      " 6   V7      45211 non-null  object\n",
      " 7   V8      45211 non-null  object\n",
      " 8   V9      45211 non-null  object\n",
      " 9   V10     45211 non-null  int64 \n",
      " 10  V11     45211 non-null  object\n",
      " 11  V12     45211 non-null  int64 \n",
      " 12  V13     45211 non-null  int64 \n",
      " 13  V14     45211 non-null  int64 \n",
      " 14  V15     45211 non-null  int64 \n",
      " 15  V16     45211 non-null  object\n",
      " 16  Class   45211 non-null  int64 \n",
      "dtypes: int64(8), object(9)\n",
      "memory usage: 5.9+ MB\n"
     ]
    },
    {
     "data": {
      "image/png": "[encoded data removed]",
      "text/plain": [
       "<Figure size 640x480 with 1 Axes>"
      ]
     },
     "metadata": {},
     "output_type": "display_data"
    },
    {
     "name": "stdout",
     "output_type": "stream",
     "text": [
      "Class\n",
      "1    0.883\n",
      "2    0.117\n",
      "Name: proportion, dtype: float64\n"
     ]
    }
   ],
   "source": [
    "#Info general\n",
    "df.info()\n",
    "\n",
    "#Estadísticas básicas\n",
    "df.describe(include ='all').transpose()\n",
    "\n",
    "#Distribución de la variable target\n",
    "sns.countplot(x='Class', data=df)\n",
    "plt.title('Distribución de la variable objetivo')\n",
    "plt.show()  \n",
    "\n",
    "print(df[\"Class\"].value_counts(normalize=True).round(3))"
   ]
  },
  {
   "cell_type": "code",
   "execution_count": 22,
   "id": "fa755756",
   "metadata": {},
   "outputs": [
    {
     "data": {
      "image/png": "[encoded data removed]",
      "text/plain": [
       "<Figure size 640x480 with 1 Axes>"
      ]
     },
     "metadata": {},
     "output_type": "display_data"
    }
   ],
   "source": [
    "#Detectar columna con fuga de información\n",
    "sns.histplot(data=df, x='V12', hue='Class', bins=50, kde=True)\n",
    "plt.title('Distribución de duration según la clase')\n",
    "plt.show()"
   ]
  }
 ],
 "metadata": {
  "kernelspec": {
   "display_name": "Python 3",
   "language": "python",
   "name": "python3"
  },
  "language_info": {
   "codemirror_mode": {
    "name": "ipython",
    "version": 3
   },
   "file_extension": ".py",
   "mimetype": "text/x-python",
   "name": "python",
   "nbconvert_exporter": "python",
   "pygments_lexer": "ipython3",
   "version": "3.12.5"
  }
 },
 "nbformat": 4,
 "nbformat_minor": 5
}
